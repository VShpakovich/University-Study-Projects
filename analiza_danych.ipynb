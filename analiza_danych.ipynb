{
  "cells": [
    {
      "cell_type": "code",
      "execution_count": null,
      "metadata": {
        "id": "3QmVt-LrImAo"
      },
      "outputs": [],
      "source": []
    },
    {
      "cell_type": "markdown",
      "source": [
        "Tekst testowy tak naprawdę z google collab tylko dwa razy sczesniej korzystałam"
      ],
      "metadata": {
        "id": "aX1l7G7OJIyV"
      }
    },
    {
      "cell_type": "markdown",
      "source": [
        "## \"Nie wszyscy nowo dodawani wykonawcy do naszej bazy mają przypisany gatunek muzyczny - musimy jakoś temu zarządzić!\"\n",
        "\n"
      ],
      "metadata": {
        "id": "SSWtuq4JKdd6"
      }
    },
    {
      "cell_type": "markdown",
      "source": [
        "# Analiza danych\n",
        "Od klienta dostaliśmy:\n",
        "\n",
        "\n",
        "*   Bazę użytkowników\n",
        "*   Listę wykonawców\n",
        "*   Listę utworów\n",
        "*   Historię sesji użytkowników\n",
        "*   Techniczne informacje dotyczące przechowywania plików\n",
        "\n",
        "Po krótkiej analizie wstępnej wygląda na to, że techniczne informacje oraz historia sesji użytkowników nie wnoszą zbyt wiele jeżeli chodzi o gatunki muzyczne\n",
        "\n",
        "\n",
        "\n",
        "\n",
        "\n"
      ],
      "metadata": {
        "id": "kDX7bUAvLFuI"
      }
    },
    {
      "cell_type": "markdown",
      "source": [],
      "metadata": {
        "id": "45LsNmhQJG5r"
      }
    }
  ],
  "metadata": {
    "kernelspec": {
      "display_name": "Python 3.10.5 64-bit",
      "language": "python",
      "name": "python3"
    },
    "language_info": {
      "name": "python",
      "version": "3.10.5"
    },
    "orig_nbformat": 4,
    "vscode": {
      "interpreter": {
        "hash": "4c1bce8e414f9bc48912dcc4416cdb1ae524d0fbd3b04a7c9d6465f890f9d9c6"
      }
    },
    "colab": {
      "provenance": []
    }
  },
  "nbformat": 4,
  "nbformat_minor": 0
}